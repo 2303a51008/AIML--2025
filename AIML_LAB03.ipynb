{
  "nbformat": 4,
  "nbformat_minor": 0,
  "metadata": {
    "colab": {
      "provenance": [],
      "authorship_tag": "ABX9TyOyNwWKHx0cF2T2zg4gbnoC",
      "include_colab_link": true
    },
    "kernelspec": {
      "name": "python3",
      "display_name": "Python 3"
    },
    "language_info": {
      "name": "python"
    }
  },
  "cells": [
    {
      "cell_type": "markdown",
      "metadata": {
        "id": "view-in-github",
        "colab_type": "text"
      },
      "source": [
        "<a href=\"https://colab.research.google.com/github/2303a51008/AIML--2025/blob/main/AIML_LAB03.ipynb\" target=\"_parent\"><img src=\"https://colab.research.google.com/assets/colab-badge.svg\" alt=\"Open In Colab\"/></a>"
      ]
    },
    {
      "cell_type": "code",
      "execution_count": 2,
      "metadata": {
        "id": "iMngiv9Ei16A"
      },
      "outputs": [],
      "source": [
        "import collections\n",
        "import random\n",
        "import math\n",
        "import functools\n",
        "cache = functools.lru_cache(10**6)"
      ]
    },
    {
      "cell_type": "code",
      "source": [
        "def actions (self , state ):\n",
        "    ##Return a collection of the allowable moves from this state .##\n",
        "    raise NotImplementedError\n",
        "\n",
        "def result (self , state , move ):\n",
        "    ##Return the state that results from making a move from a state ,##\n",
        "    raise NotImplementedError\n",
        "\n",
        "def is_terminal (self , state ):\n",
        "    \"\"\"Return True if is a final statenfor the game.\"\"\"\n",
        "    return not self. action (state)\n",
        "\n",
        "def utility (self , state , player ):\n",
        "  \"\"\"Return the value of this final state to player.\"\"\"\n",
        "  raise NotImplementedError"
      ],
      "metadata": {
        "id": "sMChEUm0jXFs"
      },
      "execution_count": 3,
      "outputs": []
    },
    {
      "cell_type": "code",
      "source": [
        "    def play_game (game , strategies : dict , verbose=False ):\n",
        "        ###play a turn-taking game.'strategies ' is a {player name: function} dict ,\n",
        "        ###where function(state , game) is used to get the player 's move.###\n",
        "        state = game,initial\n",
        "        while not game. is_terminal (state ):\n",
        "            player = state. to_move\n",
        "            move = strategies [player ](game , state)\n",
        "            state = game.result(state , move)"
      ],
      "metadata": {
        "id": "Mow6nE_yly0x"
      },
      "execution_count": null,
      "outputs": []
    },
    {
      "cell_type": "code",
      "source": [
        "from google.colab import drive\n",
        "drive.mount('/content/drive')"
      ],
      "metadata": {
        "id": "ICY_SxqvqEYP"
      },
      "execution_count": null,
      "outputs": []
    }
  ]
}